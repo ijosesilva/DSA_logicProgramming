{
 "cells": [
  {
   "cell_type": "markdown",
   "id": "f21616d0",
   "metadata": {},
   "source": [
    "1-Define e inicializa a variável soma com 0. <br/>\n",
    "2-Para cada valor de i começando por 1, repetimos por n vezes: <br/>\n",
    "2.1-A variável soma recebe seu próprio valor mais i <br/>\n",
    "3-Retorna soma <br/>"
   ]
  },
  {
   "cell_type": "code",
   "execution_count": 3,
   "id": "a1fa3782",
   "metadata": {},
   "outputs": [],
   "source": [
    "def soma(n):\n",
    "    soma = 0\n",
    "    for i in range (n+1):\n",
    "        soma = soma + i\n",
    "    return soma"
   ]
  },
  {
   "cell_type": "code",
   "execution_count": 4,
   "id": "69e0ad3d",
   "metadata": {},
   "outputs": [
    {
     "data": {
      "text/plain": [
       "55"
      ]
     },
     "execution_count": 4,
     "metadata": {},
     "output_type": "execute_result"
    }
   ],
   "source": [
    "soma(10)"
   ]
  },
  {
   "cell_type": "code",
   "execution_count": 17,
   "id": "047965bb",
   "metadata": {},
   "outputs": [],
   "source": [
    "def soma_v2(n):\n",
    "    soma  = 0\n",
    "    i = 1\n",
    "    while i <= n:\n",
    "        soma = soma + i\n",
    "        i = i + 1\n",
    "    return soma\n"
   ]
  },
  {
   "cell_type": "code",
   "execution_count": 18,
   "id": "2aeeac14",
   "metadata": {},
   "outputs": [
    {
     "data": {
      "text/plain": [
       "55"
      ]
     },
     "execution_count": 18,
     "metadata": {},
     "output_type": "execute_result"
    }
   ],
   "source": [
    "soma_v2(10)"
   ]
  }
 ],
 "metadata": {
  "kernelspec": {
   "display_name": "Python 3 (ipykernel)",
   "language": "python",
   "name": "python3"
  },
  "language_info": {
   "codemirror_mode": {
    "name": "ipython",
    "version": 3
   },
   "file_extension": ".py",
   "mimetype": "text/x-python",
   "name": "python",
   "nbconvert_exporter": "python",
   "pygments_lexer": "ipython3",
   "version": "3.10.2"
  }
 },
 "nbformat": 4,
 "nbformat_minor": 5
}
