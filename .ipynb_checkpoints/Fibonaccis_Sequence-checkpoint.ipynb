{
 "cells": [
  {
   "cell_type": "markdown",
   "id": "60047b5f",
   "metadata": {},
   "source": [
    "### Problema:  Imprimir  todos  os  valores  da  Sequência  de  Fibonacci  até  uma  posição  específica dada.\n",
    "\n",
    "Pseudocódigo:\n",
    "    1-Defina a variável n como sendo a posição desejada na SF.<br/>\n",
    "    2-Defina a variável n1 para o valor da primeira posição na SF.<br/>\n",
    "    3-Defina a variável n2 para o valor da segunda posição na SF.<br/>\n",
    "    4-Defina  e  inicialize  a  variável  count  para  servir  como  contador,  a  fim  de  saber  quando chegamos ao fim da SF até o valor de n.<br/>\n",
    "    5-Se  o  valor  de  n  for  menor  que  zero, imprima  mensagem  na  tela  indicando  que  n  não pode ser negativo, pois não temos posição negativa na SF.<br/>\n",
    "    6-Senão, se n for igual a 1, imprime n1.<br/>\n",
    "    7-Senão, repetimos os passos abaixo enquanto count for menor que n:<br/>\n",
    "        7.1. Imprime n1 na tela.<br/>\n",
    "        7.2. Soma n1 com n2 para obter o próximo valor.<br/>\n",
    "        7.3. A variável n1 recebe o valor da variável n2.<br/>\n",
    "        7.4. A variável n2 recebe o valor calculado em 7.2.<br/>\n",
    "        7.5. Incrementa o contador.<br/>\n",
    " "
   ]
  },
  {
   "cell_type": "code",
   "execution_count": 7,
   "id": "797f921a",
   "metadata": {},
   "outputs": [],
   "source": [
    "n = 0\n",
    "n1 = 0\n",
    "n2 = 1\n",
    "count = 0\n",
    "if n < 0:\n",
    "    print(n, \"não pode ser negativo\")\n",
    "elif n == 1:\n",
    "        print(n1)\n",
    "else:\n",
    "    while count < n:\n",
    "        print(n1)\n",
    "        soma = n1 + n2\n",
    "        n1 = n2\n",
    "        n2 = soma\n",
    "        count+=1"
   ]
  }
 ],
 "metadata": {
  "kernelspec": {
   "display_name": "Python 3 (ipykernel)",
   "language": "python",
   "name": "python3"
  },
  "language_info": {
   "codemirror_mode": {
    "name": "ipython",
    "version": 3
   },
   "file_extension": ".py",
   "mimetype": "text/x-python",
   "name": "python",
   "nbconvert_exporter": "python",
   "pygments_lexer": "ipython3",
   "version": "3.10.2"
  }
 },
 "nbformat": 4,
 "nbformat_minor": 5
}
