{
 "cells": [
  {
   "cell_type": "markdown",
   "id": "04a8b33e",
   "metadata": {},
   "source": [
    "### Recursividade  \n",
    "  \n",
    "Vantagens:  \n",
    "Os  algoritmos  recursivos  normalmente  são  mais  compactos,  mais  legíveis  e  mais  fáceis  de serem compreendidos. Algoritmos para resolver problemas de natureza recursiva são fáceis de serem implementados em linguagens de programação de alto nível.  \n",
    "  \n",
    "Desvantagens:  \n",
    "Por  usarem  intensivamente  a  pilha,  o  que  requer  alocações  e  desalocações  de  memória,  os algoritmos  recursivos  tendem  a  ser  mais  lentos  que  os  equivalentes  iterativos,  porém  pode valer  a  pena  sacrificar  a  eficiência  em  benefício  da  clareza.  Algoritmos  recursivos  são  mais difíceis de serem depurados durante a fase de desenvolvimento.\n"
   ]
  },
  {
   "cell_type": "code",
   "execution_count": 2,
   "id": "0bedee5d",
   "metadata": {},
   "outputs": [],
   "source": [
    "def somaRec(n):\n",
    "    if n>0:\n",
    "        soma = somaRec(n-1) + n\n",
    "    else:\n",
    "        soma = 0\n",
    "    return soma"
   ]
  },
  {
   "cell_type": "code",
   "execution_count": 3,
   "id": "69131749",
   "metadata": {},
   "outputs": [
    {
     "data": {
      "text/plain": [
       "55"
      ]
     },
     "execution_count": 3,
     "metadata": {},
     "output_type": "execute_result"
    }
   ],
   "source": [
    "somaRec(10)"
   ]
  }
 ],
 "metadata": {
  "kernelspec": {
   "display_name": "Python 3 (ipykernel)",
   "language": "python",
   "name": "python3"
  },
  "language_info": {
   "codemirror_mode": {
    "name": "ipython",
    "version": 3
   },
   "file_extension": ".py",
   "mimetype": "text/x-python",
   "name": "python",
   "nbconvert_exporter": "python",
   "pygments_lexer": "ipython3",
   "version": "3.10.2"
  }
 },
 "nbformat": 4,
 "nbformat_minor": 5
}
