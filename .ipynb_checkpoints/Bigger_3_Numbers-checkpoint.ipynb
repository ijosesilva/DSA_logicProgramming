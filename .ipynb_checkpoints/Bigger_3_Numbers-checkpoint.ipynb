{
 "cells": [
  {
   "cell_type": "markdown",
   "id": "518510aa",
   "metadata": {},
   "source": [
    "### Encontrar maior valor entre 2 numeros"
   ]
  },
  {
   "cell_type": "code",
   "execution_count": 15,
   "id": "c98a7632",
   "metadata": {},
   "outputs": [],
   "source": [
    "def maximo2(a,b):\n",
    "    if a > b:\n",
    "        return a\n",
    "    else:\n",
    "        return b"
   ]
  },
  {
   "cell_type": "markdown",
   "id": "8196d494",
   "metadata": {},
   "source": [
    "### Encontrar maior valor entre 3 numeros\n",
    "\n",
    "Pseudocódigo:\n",
    "1-Leia 3 números, representados pelas variáveis a, b e c.\n",
    "2-Se a for maior que b e a for maior que c, retorna a.\n",
    "3-Senão, se b for maior que a e b for maior que c, retorna b.\n",
    "4-Senão, retorna c"
   ]
  },
  {
   "cell_type": "code",
   "execution_count": 16,
   "id": "8e2ebd65",
   "metadata": {},
   "outputs": [],
   "source": [
    "def maximo3_v1(a, b, c):\n",
    "    if a > b and a > c:\n",
    "        print(a)\n",
    "    elif b > a and b > c:\n",
    "        print(b)\n",
    "    else:\n",
    "        print(c)"
   ]
  },
  {
   "cell_type": "code",
   "execution_count": 17,
   "id": "1e8c31c2",
   "metadata": {},
   "outputs": [
    {
     "name": "stdout",
     "output_type": "stream",
     "text": [
      "50\n"
     ]
    }
   ],
   "source": [
    "maximo3_v1(5,10,50)"
   ]
  },
  {
   "cell_type": "code",
   "execution_count": 18,
   "id": "93a433ca",
   "metadata": {},
   "outputs": [],
   "source": [
    "def maximo3_v2(a,b,c):\n",
    "    if a < b:\n",
    "        return maximo2(b,c)\n",
    "    else:\n",
    "        return maximo2(a,b)"
   ]
  },
  {
   "cell_type": "code",
   "execution_count": 19,
   "id": "dd8c6ad7",
   "metadata": {},
   "outputs": [
    {
     "data": {
      "text/plain": [
       "10"
      ]
     },
     "execution_count": 19,
     "metadata": {},
     "output_type": "execute_result"
    }
   ],
   "source": [
    "maximo3_v2(8,9,10)"
   ]
  }
 ],
 "metadata": {
  "kernelspec": {
   "display_name": "Python 3 (ipykernel)",
   "language": "python",
   "name": "python3"
  },
  "language_info": {
   "codemirror_mode": {
    "name": "ipython",
    "version": 3
   },
   "file_extension": ".py",
   "mimetype": "text/x-python",
   "name": "python",
   "nbconvert_exporter": "python",
   "pygments_lexer": "ipython3",
   "version": "3.10.2"
  }
 },
 "nbformat": 4,
 "nbformat_minor": 5
}
