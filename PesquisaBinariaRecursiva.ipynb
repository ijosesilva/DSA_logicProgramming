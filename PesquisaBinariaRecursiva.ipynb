{
 "cells": [
  {
   "cell_type": "code",
   "execution_count": null,
   "id": "67db51d1",
   "metadata": {},
   "outputs": [],
   "source": [
    "# Pesquisa binaria recursiva\n",
    "\n",
    "def pesquisaBinaria(vetor,primeira_pos,ultima_pos,x):\n",
    "    if ultima_pos >= primeira_pos:\n",
    "        meio = primeira_pos + (ultima_pos - primeira_pos) // 2\n",
    "        if vetor [meio] == x\n",
    "            return meio\n",
    "        elif vetor[meio] > x:\n",
    "            return pesquisaBinaria(vetor,primeira_pos,meio-1,x)\n",
    "        else:\n",
    "            return pesquisaBinaria(vetor,meio+1,ultima_pos,x)\n",
    "    else:\n",
    "        return - 1\n",
    "\n",
    "listaNum =bv"
   ]
  }
 ],
 "metadata": {
  "kernelspec": {
   "display_name": "Python 3 (ipykernel)",
   "language": "python",
   "name": "python3"
  },
  "language_info": {
   "codemirror_mode": {
    "name": "ipython",
    "version": 3
   },
   "file_extension": ".py",
   "mimetype": "text/x-python",
   "name": "python",
   "nbconvert_exporter": "python",
   "pygments_lexer": "ipython3",
   "version": "3.10.2"
  }
 },
 "nbformat": 4,
 "nbformat_minor": 5
}
